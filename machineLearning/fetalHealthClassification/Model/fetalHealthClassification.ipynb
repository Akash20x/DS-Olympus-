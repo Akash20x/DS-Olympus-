{
  "nbformat": 4,
  "nbformat_minor": 2,
  "metadata": {
    "colab": {
      "name": "fetalHealthClassification.ipynb",
      "provenance": [],
      "collapsed_sections": []
    },
    "kernelspec": {
      "name": "python3",
      "display_name": "Python 3.6.4 64-bit"
    },
    "language_info": {
      "name": "python",
      "version": "3.6.4",
      "mimetype": "text/x-python",
      "codemirror_mode": {
        "name": "ipython",
        "version": 3
      },
      "pygments_lexer": "ipython3",
      "nbconvert_exporter": "python",
      "file_extension": ".py"
    },
    "interpreter": {
      "hash": "f2db1a205d05422567bfea71378eb1163d4d5d7418f0062693a7c6bfcbaf4348"
    }
  },
  "cells": [
    {
      "cell_type": "code",
      "execution_count": 11,
      "source": [
        "import pandas as pd\r\n",
        "import matplotlib.pyplot as plt\r\n",
        "from sklearn.linear_model import LogisticRegression\r\n",
        "from sklearn.model_selection import train_test_split\r\n",
        "from sklearn.preprocessing import MinMaxScaler\r\n",
        "from sklearn.metrics import classification_report, confusion_matrix, plot_confusion_matrix"
      ],
      "outputs": [],
      "metadata": {
        "id": "2Cyh7b9gBO-9"
      }
    },
    {
      "cell_type": "code",
      "execution_count": 12,
      "source": [
        "data = pd.read_csv(\"E:\\\\github\\\\DS-Olympus-\\\\machineLearning\\\\fetalHealthClassification\\\\Dataset\\\\fetal_health.csv\")\r\n",
        "data.head(5)"
      ],
      "outputs": [
        {
          "output_type": "execute_result",
          "data": {
            "text/plain": [
              "   baseline value  accelerations  fetal_movement  uterine_contractions  \\\n",
              "0           120.0          0.000             0.0                 0.000   \n",
              "1           132.0          0.006             0.0                 0.006   \n",
              "2           133.0          0.003             0.0                 0.008   \n",
              "3           134.0          0.003             0.0                 0.008   \n",
              "4           132.0          0.007             0.0                 0.008   \n",
              "\n",
              "   light_decelerations  severe_decelerations  prolongued_decelerations  \\\n",
              "0                0.000                   0.0                       0.0   \n",
              "1                0.003                   0.0                       0.0   \n",
              "2                0.003                   0.0                       0.0   \n",
              "3                0.003                   0.0                       0.0   \n",
              "4                0.000                   0.0                       0.0   \n",
              "\n",
              "   abnormal_short_term_variability  mean_value_of_short_term_variability  \\\n",
              "0                             73.0                                   0.5   \n",
              "1                             17.0                                   2.1   \n",
              "2                             16.0                                   2.1   \n",
              "3                             16.0                                   2.4   \n",
              "4                             16.0                                   2.4   \n",
              "\n",
              "   percentage_of_time_with_abnormal_long_term_variability  ...  histogram_min  \\\n",
              "0                                               43.0       ...           62.0   \n",
              "1                                                0.0       ...           68.0   \n",
              "2                                                0.0       ...           68.0   \n",
              "3                                                0.0       ...           53.0   \n",
              "4                                                0.0       ...           53.0   \n",
              "\n",
              "   histogram_max  histogram_number_of_peaks  histogram_number_of_zeroes  \\\n",
              "0          126.0                        2.0                         0.0   \n",
              "1          198.0                        6.0                         1.0   \n",
              "2          198.0                        5.0                         1.0   \n",
              "3          170.0                       11.0                         0.0   \n",
              "4          170.0                        9.0                         0.0   \n",
              "\n",
              "   histogram_mode  histogram_mean  histogram_median  histogram_variance  \\\n",
              "0           120.0           137.0             121.0                73.0   \n",
              "1           141.0           136.0             140.0                12.0   \n",
              "2           141.0           135.0             138.0                13.0   \n",
              "3           137.0           134.0             137.0                13.0   \n",
              "4           137.0           136.0             138.0                11.0   \n",
              "\n",
              "   histogram_tendency  fetal_health  \n",
              "0                 1.0           2.0  \n",
              "1                 0.0           1.0  \n",
              "2                 0.0           1.0  \n",
              "3                 1.0           1.0  \n",
              "4                 1.0           1.0  \n",
              "\n",
              "[5 rows x 22 columns]"
            ],
            "text/html": [
              "<div>\n",
              "<style scoped>\n",
              "    .dataframe tbody tr th:only-of-type {\n",
              "        vertical-align: middle;\n",
              "    }\n",
              "\n",
              "    .dataframe tbody tr th {\n",
              "        vertical-align: top;\n",
              "    }\n",
              "\n",
              "    .dataframe thead th {\n",
              "        text-align: right;\n",
              "    }\n",
              "</style>\n",
              "<table border=\"1\" class=\"dataframe\">\n",
              "  <thead>\n",
              "    <tr style=\"text-align: right;\">\n",
              "      <th></th>\n",
              "      <th>baseline value</th>\n",
              "      <th>accelerations</th>\n",
              "      <th>fetal_movement</th>\n",
              "      <th>uterine_contractions</th>\n",
              "      <th>light_decelerations</th>\n",
              "      <th>severe_decelerations</th>\n",
              "      <th>prolongued_decelerations</th>\n",
              "      <th>abnormal_short_term_variability</th>\n",
              "      <th>mean_value_of_short_term_variability</th>\n",
              "      <th>percentage_of_time_with_abnormal_long_term_variability</th>\n",
              "      <th>...</th>\n",
              "      <th>histogram_min</th>\n",
              "      <th>histogram_max</th>\n",
              "      <th>histogram_number_of_peaks</th>\n",
              "      <th>histogram_number_of_zeroes</th>\n",
              "      <th>histogram_mode</th>\n",
              "      <th>histogram_mean</th>\n",
              "      <th>histogram_median</th>\n",
              "      <th>histogram_variance</th>\n",
              "      <th>histogram_tendency</th>\n",
              "      <th>fetal_health</th>\n",
              "    </tr>\n",
              "  </thead>\n",
              "  <tbody>\n",
              "    <tr>\n",
              "      <th>0</th>\n",
              "      <td>120.0</td>\n",
              "      <td>0.000</td>\n",
              "      <td>0.0</td>\n",
              "      <td>0.000</td>\n",
              "      <td>0.000</td>\n",
              "      <td>0.0</td>\n",
              "      <td>0.0</td>\n",
              "      <td>73.0</td>\n",
              "      <td>0.5</td>\n",
              "      <td>43.0</td>\n",
              "      <td>...</td>\n",
              "      <td>62.0</td>\n",
              "      <td>126.0</td>\n",
              "      <td>2.0</td>\n",
              "      <td>0.0</td>\n",
              "      <td>120.0</td>\n",
              "      <td>137.0</td>\n",
              "      <td>121.0</td>\n",
              "      <td>73.0</td>\n",
              "      <td>1.0</td>\n",
              "      <td>2.0</td>\n",
              "    </tr>\n",
              "    <tr>\n",
              "      <th>1</th>\n",
              "      <td>132.0</td>\n",
              "      <td>0.006</td>\n",
              "      <td>0.0</td>\n",
              "      <td>0.006</td>\n",
              "      <td>0.003</td>\n",
              "      <td>0.0</td>\n",
              "      <td>0.0</td>\n",
              "      <td>17.0</td>\n",
              "      <td>2.1</td>\n",
              "      <td>0.0</td>\n",
              "      <td>...</td>\n",
              "      <td>68.0</td>\n",
              "      <td>198.0</td>\n",
              "      <td>6.0</td>\n",
              "      <td>1.0</td>\n",
              "      <td>141.0</td>\n",
              "      <td>136.0</td>\n",
              "      <td>140.0</td>\n",
              "      <td>12.0</td>\n",
              "      <td>0.0</td>\n",
              "      <td>1.0</td>\n",
              "    </tr>\n",
              "    <tr>\n",
              "      <th>2</th>\n",
              "      <td>133.0</td>\n",
              "      <td>0.003</td>\n",
              "      <td>0.0</td>\n",
              "      <td>0.008</td>\n",
              "      <td>0.003</td>\n",
              "      <td>0.0</td>\n",
              "      <td>0.0</td>\n",
              "      <td>16.0</td>\n",
              "      <td>2.1</td>\n",
              "      <td>0.0</td>\n",
              "      <td>...</td>\n",
              "      <td>68.0</td>\n",
              "      <td>198.0</td>\n",
              "      <td>5.0</td>\n",
              "      <td>1.0</td>\n",
              "      <td>141.0</td>\n",
              "      <td>135.0</td>\n",
              "      <td>138.0</td>\n",
              "      <td>13.0</td>\n",
              "      <td>0.0</td>\n",
              "      <td>1.0</td>\n",
              "    </tr>\n",
              "    <tr>\n",
              "      <th>3</th>\n",
              "      <td>134.0</td>\n",
              "      <td>0.003</td>\n",
              "      <td>0.0</td>\n",
              "      <td>0.008</td>\n",
              "      <td>0.003</td>\n",
              "      <td>0.0</td>\n",
              "      <td>0.0</td>\n",
              "      <td>16.0</td>\n",
              "      <td>2.4</td>\n",
              "      <td>0.0</td>\n",
              "      <td>...</td>\n",
              "      <td>53.0</td>\n",
              "      <td>170.0</td>\n",
              "      <td>11.0</td>\n",
              "      <td>0.0</td>\n",
              "      <td>137.0</td>\n",
              "      <td>134.0</td>\n",
              "      <td>137.0</td>\n",
              "      <td>13.0</td>\n",
              "      <td>1.0</td>\n",
              "      <td>1.0</td>\n",
              "    </tr>\n",
              "    <tr>\n",
              "      <th>4</th>\n",
              "      <td>132.0</td>\n",
              "      <td>0.007</td>\n",
              "      <td>0.0</td>\n",
              "      <td>0.008</td>\n",
              "      <td>0.000</td>\n",
              "      <td>0.0</td>\n",
              "      <td>0.0</td>\n",
              "      <td>16.0</td>\n",
              "      <td>2.4</td>\n",
              "      <td>0.0</td>\n",
              "      <td>...</td>\n",
              "      <td>53.0</td>\n",
              "      <td>170.0</td>\n",
              "      <td>9.0</td>\n",
              "      <td>0.0</td>\n",
              "      <td>137.0</td>\n",
              "      <td>136.0</td>\n",
              "      <td>138.0</td>\n",
              "      <td>11.0</td>\n",
              "      <td>1.0</td>\n",
              "      <td>1.0</td>\n",
              "    </tr>\n",
              "  </tbody>\n",
              "</table>\n",
              "<p>5 rows × 22 columns</p>\n",
              "</div>"
            ]
          },
          "metadata": {},
          "execution_count": 12
        }
      ],
      "metadata": {
        "colab": {
          "base_uri": "https://localhost:8080/"
        },
        "id": "natz-mEyBSP0",
        "outputId": "1fe31b7f-9a5a-497d-8942-ef840c4716f6"
      }
    },
    {
      "cell_type": "code",
      "execution_count": 13,
      "source": [
        "data.columns\r\n",
        "data.info()\r\n",
        "data.shape"
      ],
      "outputs": [
        {
          "output_type": "stream",
          "name": "stdout",
          "text": [
            "<class 'pandas.core.frame.DataFrame'>\n",
            "RangeIndex: 2126 entries, 0 to 2125\n",
            "Data columns (total 22 columns):\n",
            " #   Column                                                  Non-Null Count  Dtype  \n",
            "---  ------                                                  --------------  -----  \n",
            " 0   baseline value                                          2126 non-null   float64\n",
            " 1   accelerations                                           2126 non-null   float64\n",
            " 2   fetal_movement                                          2126 non-null   float64\n",
            " 3   uterine_contractions                                    2126 non-null   float64\n",
            " 4   light_decelerations                                     2126 non-null   float64\n",
            " 5   severe_decelerations                                    2126 non-null   float64\n",
            " 6   prolongued_decelerations                                2126 non-null   float64\n",
            " 7   abnormal_short_term_variability                         2126 non-null   float64\n",
            " 8   mean_value_of_short_term_variability                    2126 non-null   float64\n",
            " 9   percentage_of_time_with_abnormal_long_term_variability  2126 non-null   float64\n",
            " 10  mean_value_of_long_term_variability                     2126 non-null   float64\n",
            " 11  histogram_width                                         2126 non-null   float64\n",
            " 12  histogram_min                                           2126 non-null   float64\n",
            " 13  histogram_max                                           2126 non-null   float64\n",
            " 14  histogram_number_of_peaks                               2126 non-null   float64\n",
            " 15  histogram_number_of_zeroes                              2126 non-null   float64\n",
            " 16  histogram_mode                                          2126 non-null   float64\n",
            " 17  histogram_mean                                          2126 non-null   float64\n",
            " 18  histogram_median                                        2126 non-null   float64\n",
            " 19  histogram_variance                                      2126 non-null   float64\n",
            " 20  histogram_tendency                                      2126 non-null   float64\n",
            " 21  fetal_health                                            2126 non-null   float64\n",
            "dtypes: float64(22)\n",
            "memory usage: 365.5 KB\n"
          ]
        },
        {
          "output_type": "execute_result",
          "data": {
            "text/plain": [
              "(2126, 22)"
            ]
          },
          "metadata": {},
          "execution_count": 13
        }
      ],
      "metadata": {
        "colab": {
          "base_uri": "https://localhost:8080/"
        },
        "id": "jGXRP7-xBgRE",
        "outputId": "8a1070fe-816f-4766-8c23-b060662d314d"
      }
    },
    {
      "cell_type": "code",
      "execution_count": 14,
      "source": [
        "data.describe()"
      ],
      "outputs": [
        {
          "output_type": "execute_result",
          "data": {
            "text/plain": [
              "       baseline value  accelerations  fetal_movement  uterine_contractions  \\\n",
              "count     2126.000000    2126.000000     2126.000000           2126.000000   \n",
              "mean       133.303857       0.003178        0.009481              0.004366   \n",
              "std          9.840844       0.003866        0.046666              0.002946   \n",
              "min        106.000000       0.000000        0.000000              0.000000   \n",
              "25%        126.000000       0.000000        0.000000              0.002000   \n",
              "50%        133.000000       0.002000        0.000000              0.004000   \n",
              "75%        140.000000       0.006000        0.003000              0.007000   \n",
              "max        160.000000       0.019000        0.481000              0.015000   \n",
              "\n",
              "       light_decelerations  severe_decelerations  prolongued_decelerations  \\\n",
              "count          2126.000000           2126.000000               2126.000000   \n",
              "mean              0.001889              0.000003                  0.000159   \n",
              "std               0.002960              0.000057                  0.000590   \n",
              "min               0.000000              0.000000                  0.000000   \n",
              "25%               0.000000              0.000000                  0.000000   \n",
              "50%               0.000000              0.000000                  0.000000   \n",
              "75%               0.003000              0.000000                  0.000000   \n",
              "max               0.015000              0.001000                  0.005000   \n",
              "\n",
              "       abnormal_short_term_variability  mean_value_of_short_term_variability  \\\n",
              "count                      2126.000000                           2126.000000   \n",
              "mean                         46.990122                              1.332785   \n",
              "std                          17.192814                              0.883241   \n",
              "min                          12.000000                              0.200000   \n",
              "25%                          32.000000                              0.700000   \n",
              "50%                          49.000000                              1.200000   \n",
              "75%                          61.000000                              1.700000   \n",
              "max                          87.000000                              7.000000   \n",
              "\n",
              "       percentage_of_time_with_abnormal_long_term_variability  ...  \\\n",
              "count                                         2126.00000       ...   \n",
              "mean                                             9.84666       ...   \n",
              "std                                             18.39688       ...   \n",
              "min                                              0.00000       ...   \n",
              "25%                                              0.00000       ...   \n",
              "50%                                              0.00000       ...   \n",
              "75%                                             11.00000       ...   \n",
              "max                                             91.00000       ...   \n",
              "\n",
              "       histogram_min  histogram_max  histogram_number_of_peaks  \\\n",
              "count    2126.000000    2126.000000                2126.000000   \n",
              "mean       93.579492     164.025400                   4.068203   \n",
              "std        29.560212      17.944183                   2.949386   \n",
              "min        50.000000     122.000000                   0.000000   \n",
              "25%        67.000000     152.000000                   2.000000   \n",
              "50%        93.000000     162.000000                   3.000000   \n",
              "75%       120.000000     174.000000                   6.000000   \n",
              "max       159.000000     238.000000                  18.000000   \n",
              "\n",
              "       histogram_number_of_zeroes  histogram_mode  histogram_mean  \\\n",
              "count                 2126.000000     2126.000000     2126.000000   \n",
              "mean                     0.323612      137.452023      134.610536   \n",
              "std                      0.706059       16.381289       15.593596   \n",
              "min                      0.000000       60.000000       73.000000   \n",
              "25%                      0.000000      129.000000      125.000000   \n",
              "50%                      0.000000      139.000000      136.000000   \n",
              "75%                      0.000000      148.000000      145.000000   \n",
              "max                     10.000000      187.000000      182.000000   \n",
              "\n",
              "       histogram_median  histogram_variance  histogram_tendency  fetal_health  \n",
              "count       2126.000000         2126.000000         2126.000000   2126.000000  \n",
              "mean         138.090310           18.808090            0.320320      1.304327  \n",
              "std           14.466589           28.977636            0.610829      0.614377  \n",
              "min           77.000000            0.000000           -1.000000      1.000000  \n",
              "25%          129.000000            2.000000            0.000000      1.000000  \n",
              "50%          139.000000            7.000000            0.000000      1.000000  \n",
              "75%          148.000000           24.000000            1.000000      1.000000  \n",
              "max          186.000000          269.000000            1.000000      3.000000  \n",
              "\n",
              "[8 rows x 22 columns]"
            ],
            "text/html": [
              "<div>\n",
              "<style scoped>\n",
              "    .dataframe tbody tr th:only-of-type {\n",
              "        vertical-align: middle;\n",
              "    }\n",
              "\n",
              "    .dataframe tbody tr th {\n",
              "        vertical-align: top;\n",
              "    }\n",
              "\n",
              "    .dataframe thead th {\n",
              "        text-align: right;\n",
              "    }\n",
              "</style>\n",
              "<table border=\"1\" class=\"dataframe\">\n",
              "  <thead>\n",
              "    <tr style=\"text-align: right;\">\n",
              "      <th></th>\n",
              "      <th>baseline value</th>\n",
              "      <th>accelerations</th>\n",
              "      <th>fetal_movement</th>\n",
              "      <th>uterine_contractions</th>\n",
              "      <th>light_decelerations</th>\n",
              "      <th>severe_decelerations</th>\n",
              "      <th>prolongued_decelerations</th>\n",
              "      <th>abnormal_short_term_variability</th>\n",
              "      <th>mean_value_of_short_term_variability</th>\n",
              "      <th>percentage_of_time_with_abnormal_long_term_variability</th>\n",
              "      <th>...</th>\n",
              "      <th>histogram_min</th>\n",
              "      <th>histogram_max</th>\n",
              "      <th>histogram_number_of_peaks</th>\n",
              "      <th>histogram_number_of_zeroes</th>\n",
              "      <th>histogram_mode</th>\n",
              "      <th>histogram_mean</th>\n",
              "      <th>histogram_median</th>\n",
              "      <th>histogram_variance</th>\n",
              "      <th>histogram_tendency</th>\n",
              "      <th>fetal_health</th>\n",
              "    </tr>\n",
              "  </thead>\n",
              "  <tbody>\n",
              "    <tr>\n",
              "      <th>count</th>\n",
              "      <td>2126.000000</td>\n",
              "      <td>2126.000000</td>\n",
              "      <td>2126.000000</td>\n",
              "      <td>2126.000000</td>\n",
              "      <td>2126.000000</td>\n",
              "      <td>2126.000000</td>\n",
              "      <td>2126.000000</td>\n",
              "      <td>2126.000000</td>\n",
              "      <td>2126.000000</td>\n",
              "      <td>2126.00000</td>\n",
              "      <td>...</td>\n",
              "      <td>2126.000000</td>\n",
              "      <td>2126.000000</td>\n",
              "      <td>2126.000000</td>\n",
              "      <td>2126.000000</td>\n",
              "      <td>2126.000000</td>\n",
              "      <td>2126.000000</td>\n",
              "      <td>2126.000000</td>\n",
              "      <td>2126.000000</td>\n",
              "      <td>2126.000000</td>\n",
              "      <td>2126.000000</td>\n",
              "    </tr>\n",
              "    <tr>\n",
              "      <th>mean</th>\n",
              "      <td>133.303857</td>\n",
              "      <td>0.003178</td>\n",
              "      <td>0.009481</td>\n",
              "      <td>0.004366</td>\n",
              "      <td>0.001889</td>\n",
              "      <td>0.000003</td>\n",
              "      <td>0.000159</td>\n",
              "      <td>46.990122</td>\n",
              "      <td>1.332785</td>\n",
              "      <td>9.84666</td>\n",
              "      <td>...</td>\n",
              "      <td>93.579492</td>\n",
              "      <td>164.025400</td>\n",
              "      <td>4.068203</td>\n",
              "      <td>0.323612</td>\n",
              "      <td>137.452023</td>\n",
              "      <td>134.610536</td>\n",
              "      <td>138.090310</td>\n",
              "      <td>18.808090</td>\n",
              "      <td>0.320320</td>\n",
              "      <td>1.304327</td>\n",
              "    </tr>\n",
              "    <tr>\n",
              "      <th>std</th>\n",
              "      <td>9.840844</td>\n",
              "      <td>0.003866</td>\n",
              "      <td>0.046666</td>\n",
              "      <td>0.002946</td>\n",
              "      <td>0.002960</td>\n",
              "      <td>0.000057</td>\n",
              "      <td>0.000590</td>\n",
              "      <td>17.192814</td>\n",
              "      <td>0.883241</td>\n",
              "      <td>18.39688</td>\n",
              "      <td>...</td>\n",
              "      <td>29.560212</td>\n",
              "      <td>17.944183</td>\n",
              "      <td>2.949386</td>\n",
              "      <td>0.706059</td>\n",
              "      <td>16.381289</td>\n",
              "      <td>15.593596</td>\n",
              "      <td>14.466589</td>\n",
              "      <td>28.977636</td>\n",
              "      <td>0.610829</td>\n",
              "      <td>0.614377</td>\n",
              "    </tr>\n",
              "    <tr>\n",
              "      <th>min</th>\n",
              "      <td>106.000000</td>\n",
              "      <td>0.000000</td>\n",
              "      <td>0.000000</td>\n",
              "      <td>0.000000</td>\n",
              "      <td>0.000000</td>\n",
              "      <td>0.000000</td>\n",
              "      <td>0.000000</td>\n",
              "      <td>12.000000</td>\n",
              "      <td>0.200000</td>\n",
              "      <td>0.00000</td>\n",
              "      <td>...</td>\n",
              "      <td>50.000000</td>\n",
              "      <td>122.000000</td>\n",
              "      <td>0.000000</td>\n",
              "      <td>0.000000</td>\n",
              "      <td>60.000000</td>\n",
              "      <td>73.000000</td>\n",
              "      <td>77.000000</td>\n",
              "      <td>0.000000</td>\n",
              "      <td>-1.000000</td>\n",
              "      <td>1.000000</td>\n",
              "    </tr>\n",
              "    <tr>\n",
              "      <th>25%</th>\n",
              "      <td>126.000000</td>\n",
              "      <td>0.000000</td>\n",
              "      <td>0.000000</td>\n",
              "      <td>0.002000</td>\n",
              "      <td>0.000000</td>\n",
              "      <td>0.000000</td>\n",
              "      <td>0.000000</td>\n",
              "      <td>32.000000</td>\n",
              "      <td>0.700000</td>\n",
              "      <td>0.00000</td>\n",
              "      <td>...</td>\n",
              "      <td>67.000000</td>\n",
              "      <td>152.000000</td>\n",
              "      <td>2.000000</td>\n",
              "      <td>0.000000</td>\n",
              "      <td>129.000000</td>\n",
              "      <td>125.000000</td>\n",
              "      <td>129.000000</td>\n",
              "      <td>2.000000</td>\n",
              "      <td>0.000000</td>\n",
              "      <td>1.000000</td>\n",
              "    </tr>\n",
              "    <tr>\n",
              "      <th>50%</th>\n",
              "      <td>133.000000</td>\n",
              "      <td>0.002000</td>\n",
              "      <td>0.000000</td>\n",
              "      <td>0.004000</td>\n",
              "      <td>0.000000</td>\n",
              "      <td>0.000000</td>\n",
              "      <td>0.000000</td>\n",
              "      <td>49.000000</td>\n",
              "      <td>1.200000</td>\n",
              "      <td>0.00000</td>\n",
              "      <td>...</td>\n",
              "      <td>93.000000</td>\n",
              "      <td>162.000000</td>\n",
              "      <td>3.000000</td>\n",
              "      <td>0.000000</td>\n",
              "      <td>139.000000</td>\n",
              "      <td>136.000000</td>\n",
              "      <td>139.000000</td>\n",
              "      <td>7.000000</td>\n",
              "      <td>0.000000</td>\n",
              "      <td>1.000000</td>\n",
              "    </tr>\n",
              "    <tr>\n",
              "      <th>75%</th>\n",
              "      <td>140.000000</td>\n",
              "      <td>0.006000</td>\n",
              "      <td>0.003000</td>\n",
              "      <td>0.007000</td>\n",
              "      <td>0.003000</td>\n",
              "      <td>0.000000</td>\n",
              "      <td>0.000000</td>\n",
              "      <td>61.000000</td>\n",
              "      <td>1.700000</td>\n",
              "      <td>11.00000</td>\n",
              "      <td>...</td>\n",
              "      <td>120.000000</td>\n",
              "      <td>174.000000</td>\n",
              "      <td>6.000000</td>\n",
              "      <td>0.000000</td>\n",
              "      <td>148.000000</td>\n",
              "      <td>145.000000</td>\n",
              "      <td>148.000000</td>\n",
              "      <td>24.000000</td>\n",
              "      <td>1.000000</td>\n",
              "      <td>1.000000</td>\n",
              "    </tr>\n",
              "    <tr>\n",
              "      <th>max</th>\n",
              "      <td>160.000000</td>\n",
              "      <td>0.019000</td>\n",
              "      <td>0.481000</td>\n",
              "      <td>0.015000</td>\n",
              "      <td>0.015000</td>\n",
              "      <td>0.001000</td>\n",
              "      <td>0.005000</td>\n",
              "      <td>87.000000</td>\n",
              "      <td>7.000000</td>\n",
              "      <td>91.00000</td>\n",
              "      <td>...</td>\n",
              "      <td>159.000000</td>\n",
              "      <td>238.000000</td>\n",
              "      <td>18.000000</td>\n",
              "      <td>10.000000</td>\n",
              "      <td>187.000000</td>\n",
              "      <td>182.000000</td>\n",
              "      <td>186.000000</td>\n",
              "      <td>269.000000</td>\n",
              "      <td>1.000000</td>\n",
              "      <td>3.000000</td>\n",
              "    </tr>\n",
              "  </tbody>\n",
              "</table>\n",
              "<p>8 rows × 22 columns</p>\n",
              "</div>"
            ]
          },
          "metadata": {},
          "execution_count": 14
        }
      ],
      "metadata": {
        "colab": {
          "base_uri": "https://localhost:8080/",
          "height": 336
        },
        "id": "SLZjSTT9D4BY",
        "outputId": "7e2d37f2-a8b6-4feb-900b-be804686515a"
      }
    },
    {
      "cell_type": "code",
      "execution_count": 15,
      "source": [
        "# are there any null values???\r\n",
        "print(data.isnull().sum())"
      ],
      "outputs": [
        {
          "output_type": "stream",
          "name": "stdout",
          "text": [
            "baseline value                                            0\n",
            "accelerations                                             0\n",
            "fetal_movement                                            0\n",
            "uterine_contractions                                      0\n",
            "light_decelerations                                       0\n",
            "severe_decelerations                                      0\n",
            "prolongued_decelerations                                  0\n",
            "abnormal_short_term_variability                           0\n",
            "mean_value_of_short_term_variability                      0\n",
            "percentage_of_time_with_abnormal_long_term_variability    0\n",
            "mean_value_of_long_term_variability                       0\n",
            "histogram_width                                           0\n",
            "histogram_min                                             0\n",
            "histogram_max                                             0\n",
            "histogram_number_of_peaks                                 0\n",
            "histogram_number_of_zeroes                                0\n",
            "histogram_mode                                            0\n",
            "histogram_mean                                            0\n",
            "histogram_median                                          0\n",
            "histogram_variance                                        0\n",
            "histogram_tendency                                        0\n",
            "fetal_health                                              0\n",
            "dtype: int64\n"
          ]
        }
      ],
      "metadata": {
        "colab": {
          "base_uri": "https://localhost:8080/"
        },
        "id": "vdRBXyZPBv7b",
        "outputId": "9ddc4ad4-71a4-4e20-f63e-a04f7e07c0f2"
      }
    },
    {
      "cell_type": "code",
      "execution_count": 16,
      "source": [
        "features = data.drop(\"fetal_health\", axis=1)\r\n",
        "target = data[\"fetal_health\"]\r\n",
        "print(\"------------------------------------------FEATURES-------------------------------------------------\")\r\n",
        "print(features)\r\n",
        "print(\" \")\r\n",
        "print(\"------------TARGET----------------\")\r\n",
        "print(target)"
      ],
      "outputs": [
        {
          "output_type": "stream",
          "name": "stdout",
          "text": [
            "------------------------------------------FEATURES-------------------------------------------------\n",
            "      baseline value  accelerations  fetal_movement  uterine_contractions  \\\n",
            "0              120.0          0.000           0.000                 0.000   \n",
            "1              132.0          0.006           0.000                 0.006   \n",
            "2              133.0          0.003           0.000                 0.008   \n",
            "3              134.0          0.003           0.000                 0.008   \n",
            "4              132.0          0.007           0.000                 0.008   \n",
            "...              ...            ...             ...                   ...   \n",
            "2121           140.0          0.000           0.000                 0.007   \n",
            "2122           140.0          0.001           0.000                 0.007   \n",
            "2123           140.0          0.001           0.000                 0.007   \n",
            "2124           140.0          0.001           0.000                 0.006   \n",
            "2125           142.0          0.002           0.002                 0.008   \n",
            "\n",
            "      light_decelerations  severe_decelerations  prolongued_decelerations  \\\n",
            "0                   0.000                   0.0                       0.0   \n",
            "1                   0.003                   0.0                       0.0   \n",
            "2                   0.003                   0.0                       0.0   \n",
            "3                   0.003                   0.0                       0.0   \n",
            "4                   0.000                   0.0                       0.0   \n",
            "...                   ...                   ...                       ...   \n",
            "2121                0.000                   0.0                       0.0   \n",
            "2122                0.000                   0.0                       0.0   \n",
            "2123                0.000                   0.0                       0.0   \n",
            "2124                0.000                   0.0                       0.0   \n",
            "2125                0.000                   0.0                       0.0   \n",
            "\n",
            "      abnormal_short_term_variability  mean_value_of_short_term_variability  \\\n",
            "0                                73.0                                   0.5   \n",
            "1                                17.0                                   2.1   \n",
            "2                                16.0                                   2.1   \n",
            "3                                16.0                                   2.4   \n",
            "4                                16.0                                   2.4   \n",
            "...                               ...                                   ...   \n",
            "2121                             79.0                                   0.2   \n",
            "2122                             78.0                                   0.4   \n",
            "2123                             79.0                                   0.4   \n",
            "2124                             78.0                                   0.4   \n",
            "2125                             74.0                                   0.4   \n",
            "\n",
            "      percentage_of_time_with_abnormal_long_term_variability  ...  \\\n",
            "0                                                  43.0       ...   \n",
            "1                                                   0.0       ...   \n",
            "2                                                   0.0       ...   \n",
            "3                                                   0.0       ...   \n",
            "4                                                   0.0       ...   \n",
            "...                                                 ...       ...   \n",
            "2121                                               25.0       ...   \n",
            "2122                                               22.0       ...   \n",
            "2123                                               20.0       ...   \n",
            "2124                                               27.0       ...   \n",
            "2125                                               36.0       ...   \n",
            "\n",
            "      histogram_width  histogram_min  histogram_max  \\\n",
            "0                64.0           62.0          126.0   \n",
            "1               130.0           68.0          198.0   \n",
            "2               130.0           68.0          198.0   \n",
            "3               117.0           53.0          170.0   \n",
            "4               117.0           53.0          170.0   \n",
            "...               ...            ...            ...   \n",
            "2121             40.0          137.0          177.0   \n",
            "2122             66.0          103.0          169.0   \n",
            "2123             67.0          103.0          170.0   \n",
            "2124             66.0          103.0          169.0   \n",
            "2125             42.0          117.0          159.0   \n",
            "\n",
            "      histogram_number_of_peaks  histogram_number_of_zeroes  histogram_mode  \\\n",
            "0                           2.0                         0.0           120.0   \n",
            "1                           6.0                         1.0           141.0   \n",
            "2                           5.0                         1.0           141.0   \n",
            "3                          11.0                         0.0           137.0   \n",
            "4                           9.0                         0.0           137.0   \n",
            "...                         ...                         ...             ...   \n",
            "2121                        4.0                         0.0           153.0   \n",
            "2122                        6.0                         0.0           152.0   \n",
            "2123                        5.0                         0.0           153.0   \n",
            "2124                        6.0                         0.0           152.0   \n",
            "2125                        2.0                         1.0           145.0   \n",
            "\n",
            "      histogram_mean  histogram_median  histogram_variance  histogram_tendency  \n",
            "0              137.0             121.0                73.0                 1.0  \n",
            "1              136.0             140.0                12.0                 0.0  \n",
            "2              135.0             138.0                13.0                 0.0  \n",
            "3              134.0             137.0                13.0                 1.0  \n",
            "4              136.0             138.0                11.0                 1.0  \n",
            "...              ...               ...                 ...                 ...  \n",
            "2121           150.0             152.0                 2.0                 0.0  \n",
            "2122           148.0             151.0                 3.0                 1.0  \n",
            "2123           148.0             152.0                 4.0                 1.0  \n",
            "2124           147.0             151.0                 4.0                 1.0  \n",
            "2125           143.0             145.0                 1.0                 0.0  \n",
            "\n",
            "[2126 rows x 21 columns]\n",
            " \n",
            "------------TARGET----------------\n",
            "0       2.0\n",
            "1       1.0\n",
            "2       1.0\n",
            "3       1.0\n",
            "4       1.0\n",
            "       ... \n",
            "2121    2.0\n",
            "2122    2.0\n",
            "2123    2.0\n",
            "2124    2.0\n",
            "2125    1.0\n",
            "Name: fetal_health, Length: 2126, dtype: float64\n"
          ]
        }
      ],
      "metadata": {
        "colab": {
          "base_uri": "https://localhost:8080/"
        },
        "id": "Y1GLUGIADyzl",
        "outputId": "64111646-7e36-4b4f-e9d3-a7b2d196a8e5"
      }
    },
    {
      "cell_type": "code",
      "execution_count": 17,
      "source": [
        "# feature scaling\r\n",
        "scaler = MinMaxScaler()\r\n",
        "new_features = scaler.fit_transform(features)\r\n",
        "print(new_features)"
      ],
      "outputs": [
        {
          "output_type": "stream",
          "name": "stdout",
          "text": [
            "[[0.25925926 0.         0.         ... 0.40366972 0.27137546 1.        ]\n",
            " [0.48148148 0.31578947 0.         ... 0.57798165 0.04460967 0.5       ]\n",
            " [0.5        0.15789474 0.         ... 0.55963303 0.04832714 0.5       ]\n",
            " ...\n",
            " [0.62962963 0.05263158 0.         ... 0.68807339 0.01486989 1.        ]\n",
            " [0.62962963 0.05263158 0.         ... 0.67889908 0.01486989 1.        ]\n",
            " [0.66666667 0.10526316 0.004158   ... 0.62385321 0.00371747 0.5       ]]\n"
          ]
        }
      ],
      "metadata": {
        "colab": {
          "base_uri": "https://localhost:8080/"
        },
        "id": "AAxkeryWKsL8",
        "outputId": "e27b9d6e-65c5-4c07-9601-a21f4219d208"
      }
    },
    {
      "cell_type": "code",
      "execution_count": 18,
      "source": [
        "x_train, x_test, y_train, y_test = train_test_split(new_features,target,random_state=120)\r\n",
        "\r\n",
        "model = LogisticRegression()\r\n",
        "model.fit(x_train,y_train)"
      ],
      "outputs": [
        {
          "output_type": "execute_result",
          "data": {
            "text/plain": [
              "LogisticRegression()"
            ]
          },
          "metadata": {},
          "execution_count": 18
        }
      ],
      "metadata": {
        "colab": {
          "base_uri": "https://localhost:8080/"
        },
        "id": "aECRbmIlJ8tY",
        "outputId": "a5fd65bb-bf64-40c2-f4c5-181ce6e46b01"
      }
    },
    {
      "cell_type": "code",
      "execution_count": 19,
      "source": [
        "# train and test score\r\n",
        "print(\"training score: \",model.score(x_train,y_train))\r\n",
        "print(\"testing score: \",model.score(x_test,y_test))"
      ],
      "outputs": [
        {
          "output_type": "stream",
          "name": "stdout",
          "text": [
            "training score:  0.8989962358845671\n",
            "testing score:  0.8834586466165414\n"
          ]
        }
      ],
      "metadata": {
        "colab": {
          "base_uri": "https://localhost:8080/"
        },
        "id": "syAi-p_aLIND",
        "outputId": "c2ba5f95-3c43-4df8-9b54-713748a0b768"
      }
    },
    {
      "cell_type": "code",
      "execution_count": 20,
      "source": [
        "y_pred = model.predict(x_test)\r\n",
        "cr = classification_report(y_test,y_pred)\r\n",
        "print(\"-----------------CLASSIFICATION REPORT---------------------\")\r\n",
        "print(cr)"
      ],
      "outputs": [
        {
          "output_type": "stream",
          "name": "stdout",
          "text": [
            "-----------------CLASSIFICATION REPORT---------------------\n",
            "              precision    recall  f1-score   support\n",
            "\n",
            "         1.0       0.93      0.95      0.94       412\n",
            "         2.0       0.64      0.64      0.64        77\n",
            "         3.0       0.83      0.70      0.76        43\n",
            "\n",
            "    accuracy                           0.88       532\n",
            "   macro avg       0.80      0.76      0.78       532\n",
            "weighted avg       0.88      0.88      0.88       532\n",
            "\n"
          ]
        }
      ],
      "metadata": {
        "colab": {
          "base_uri": "https://localhost:8080/"
        },
        "id": "o6qM4JChMC0S",
        "outputId": "b71a8140-c547-4ffa-fd88-c004991f693d"
      }
    },
    {
      "cell_type": "code",
      "execution_count": 21,
      "source": [
        "plot_confusion_matrix(model,x_test,y_test)\r\n",
        "plt.show()"
      ],
      "outputs": [
        {
          "output_type": "display_data",
          "data": {
            "text/plain": [
              "<Figure size 432x288 with 2 Axes>"
            ],
            "image/png": "[encoded data removed]"
          },
          "metadata": {
            "needs_background": "light"
          }
        }
      ],
      "metadata": {
        "colab": {
          "base_uri": "https://localhost:8080/",
          "height": 279
        },
        "id": "dFuIb_vBMYKj",
        "outputId": "aa2a36d1-ab47-489e-86ce-d42bb1be5052"
      }
    },
    {
      "cell_type": "code",
      "execution_count": 22,
      "source": [
        "# predictions on known data\r\n",
        "d = [[120,0,0,0,0,0,0,73,0.5,43,2.4,64,62,126,2,0,120,137,121,73,1]]\r\n",
        "t_d = scaler.transform(d)\r\n",
        "lst=[\"Normal\",\"Pathological\",\"Suspect\"]\r\n",
        "print(\"The fetus is: \", lst[int(model.predict(t_d))-1])\r\n",
        "print(model.predict_proba(t_d))"
      ],
      "outputs": [
        {
          "output_type": "stream",
          "name": "stdout",
          "text": [
            "The fetus is:  Suspect\n",
            "[[0.15188616 0.1891854  0.65892844]]\n"
          ]
        }
      ],
      "metadata": {
        "colab": {
          "base_uri": "https://localhost:8080/"
        },
        "id": "tpW-_U72M7aD",
        "outputId": "d17466cc-2fd8-489c-e02c-0a4c1818ef09"
      }
    },
    {
      "cell_type": "code",
      "execution_count": 23,
      "source": [
        "# predictions on known data\r\n",
        "d = [[132,0.006,0,0.006,0.003,0,0,17,2.1,0,10.4,130,68,198,6,1,141,136,140,12,0]]\r\n",
        "t_d = scaler.transform(d)\r\n",
        "lst=[\"Normal\",\"Pathological\",\"Suspect\"]\r\n",
        "print(\"The child is: \", lst[int(model.predict(t_d))-1])\r\n",
        "print(model.predict_proba(t_d))"
      ],
      "outputs": [
        {
          "output_type": "stream",
          "name": "stdout",
          "text": [
            "The child is:  Normal\n",
            "[[9.97566102e-01 2.25668004e-03 1.77217761e-04]]\n"
          ]
        }
      ],
      "metadata": {
        "colab": {
          "base_uri": "https://localhost:8080/"
        },
        "id": "qFGTDTqXOv_6",
        "outputId": "694df2dc-8001-4238-ace3-898c1ed5bfd7"
      }
    },
    {
      "cell_type": "code",
      "execution_count": 24,
      "source": [
        "# predictions on unknown data\r\n",
        "\r\n",
        "d = [[152,0.06,0.028,0.76,0.083,0,0,15,1.5,0,10.4,110,80,128,6,1,121,106,140,20,0.005]]\r\n",
        "t_d = scaler.transform(d)\r\n",
        "lst=[\"Normal\",\"Pathological\",\"Suspect\"]\r\n",
        "print(\"The child is: \", lst[int(model.predict(t_d))-1])\r\n",
        "print(model.predict_proba(t_d))"
      ],
      "outputs": [
        {
          "output_type": "stream",
          "name": "stdout",
          "text": [
            "The child is:  Normal\n",
            "[[1.00000000e+00 7.14018397e-73 1.01781773e-60]]\n"
          ]
        }
      ],
      "metadata": {
        "colab": {
          "base_uri": "https://localhost:8080/"
        },
        "id": "jo7e4703PXw5",
        "outputId": "24a0640d-33be-4aed-ec47-f931c28769c1"
      }
    }
  ]
}